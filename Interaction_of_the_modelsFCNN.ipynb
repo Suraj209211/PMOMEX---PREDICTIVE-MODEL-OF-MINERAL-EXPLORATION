{
  "nbformat": 4,
  "nbformat_minor": 0,
  "metadata": {
    "colab": {
      "private_outputs": true,
      "provenance": [],
      "mount_file_id": "1LUgBollRW6J0b2jDhK8QGngvuyEs3c1g",
      "authorship_tag": "ABX9TyOwb8rp6gUrqdOpqZ7NhiLJ",
      "include_colab_link": true
    },
    "kernelspec": {
      "name": "python3",
      "display_name": "Python 3"
    },
    "language_info": {
      "name": "python"
    }
  },
  "cells": [
    {
      "cell_type": "markdown",
      "metadata": {
        "id": "view-in-github",
        "colab_type": "text"
      },
      "source": [
        "<a href=\"https://colab.research.google.com/github/Suraj209211/PMOMEX---PREDICTIVE-MODEL-OF-MINERAL-EXPLORATION/blob/main/Interaction_of_the_modelsFCNN.ipynb\" target=\"_parent\"><img src=\"https://colab.research.google.com/assets/colab-badge.svg\" alt=\"Open In Colab\"/></a>"
      ]
    },
    {
      "cell_type": "code",
      "execution_count": null,
      "metadata": {
        "id": "vC7U2eX9BnV_"
      },
      "outputs": [],
      "source": [
        "import pandas as pd\n",
        "import numpy as np\n",
        "from tensorflow.keras.models import load_model\n",
        "import joblib"
      ]
    },
    {
      "cell_type": "code",
      "source": [
        "import pandas as pd\n",
        "\n",
        "# Load the dataset to inspect its contents\n",
        "file_path = '/content/drive/MyDrive/PREDICTIVE MODULE OF MINERAL EXPLORATION/PMOMEX---PREDICTIVE-MODEL-OF-MINERAL-EXPLORATION/NEW_DATA/CSV_OUTPUTS/finaldata_geophysicalchemical.csv'\n",
        "data = pd.read_csv(file_path)\n",
        "\n",
        "# Display the first few rows of the dataset\n",
        "data\n"
      ],
      "metadata": {
        "id": "JdJWmdYYCKuY"
      },
      "execution_count": null,
      "outputs": []
    },
    {
      "cell_type": "code",
      "source": [
        "from tensorflow.keras.models import load_model\n",
        "\n",
        "# Load the CNN model\n",
        "model_path = '/content/drive/MyDrive/PREDICTIVE MODULE OF MINERAL EXPLORATION/PMOMEX---PREDICTIVE-MODEL-OF-MINERAL-EXPLORATION/CODE/MODEL/FCNN.h5'\n",
        "model = load_model(model_path)\n",
        "\n",
        "# Display model summary to understand its structure\n",
        "model\n"
      ],
      "metadata": {
        "id": "gsGpxA4fKguB"
      },
      "execution_count": null,
      "outputs": []
    },
    {
      "cell_type": "code",
      "source": [
        "# Extract SiO2 values for visualization\n",
        "sio2_value = data['SiO2']\n",
        "\n",
        "# Create pivot tables for both GravValue and SiO2\n",
        "grav_value_pivot = pd.pivot_table(data, values='GravValue', index='Y', columns='X')\n",
        "sio2_value_pivot = pd.pivot_table(data, values='SiO2', index='Y', columns='X')\n",
        "\n",
        "# Plot heatmaps for both GravValue and SiO2\n",
        "fig, (ax1, ax2) = plt.subplots(2, 1, figsize=(20, 24))\n",
        "\n",
        "# Heatmap for GravValue\n",
        "sns.heatmap(grav_value_pivot, cmap='coolwarm', ax=ax1, cbar_kws={'label': 'GravValue'})\n",
        "ax1.set_title('Heatmap of GravValue over Region')\n",
        "ax1.set_xlabel('Longitude (X)')\n",
        "ax1.set_ylabel('Latitude (Y)')\n",
        "\n",
        "# Heatmap for SiO2 as a mineral proxy\n",
        "sns.heatmap(sio2_value_pivot, cmap='YlGnBu', ax=ax2, cbar_kws={'label': 'SiO2 Concentration'})\n",
        "ax2.set_title('Heatmap of SiO2 Concentration (Mineral Proxy) over Region')\n",
        "ax2.set_xlabel('Longitude (X)')\n",
        "ax2.set_ylabel('Latitude (Y)')\n",
        "\n",
        "plt.tight_layout()\n",
        "plt.show()\n"
      ],
      "metadata": {
        "id": "rwGZonO6K9Vh"
      },
      "execution_count": null,
      "outputs": []
    },
    {
      "cell_type": "code",
      "source": [
        "\n",
        "# Generate the correlation matrix for the dataset\n",
        "correlation_matrix = data.corr()\n",
        "\n",
        "plt.figure(figsize=(30, 40))\n",
        "sns.heatmap(correlation_matrix, cmap='coolwarm', annot=True, fmt=\".2f\", cbar_kws={'label': 'Correlation'})\n",
        "plt.title('Correlation Heatmap of Geophysical and Chemical Properties with Values')\n",
        "plt.show()\n"
      ],
      "metadata": {
        "id": "UZDREzIJMDFZ"
      },
      "execution_count": null,
      "outputs": []
    },
    {
      "cell_type": "code",
      "source": [
        "# Select columns that represent mineral concentrations\n",
        "mineral_columns = ['SiO2', 'Al2O3', 'Fe2O3', 'MnO', 'MgO', 'Pb', 'Ni', 'Co', 'Cr', 'Cu', 'Zn']\n",
        "\n",
        "# Filter the correlation matrix for these mineral columns\n",
        "mineral_correlations = correlation_matrix[mineral_columns]\n",
        "\n",
        "# Find the top correlations for each mineral by sorting and displaying the strongest correlations\n",
        "top_mineral_correlations = mineral_correlations.apply(lambda x: x.sort_values(ascending=False))\n",
        "\n",
        "# Display the top correlations for each mineral\n",
        "# Instead of using the unavailable 'ace_tools', print the dataframe directly\n",
        "print(\"Top Mineral Correlations:\")\n",
        "print(top_mineral_correlations)\n",
        "\n",
        "# The original line is commented out in case the user wants to re-enable it later\n",
        "# import ace_tools as tools; tools.display_dataframe_to_user(name=\"Top Mineral Correlations\", dataframe=top_mineral_correlations)\n",
        "\n",
        "top_mineral_correlations"
      ],
      "metadata": {
        "id": "PsDrRr_DMXZi"
      },
      "execution_count": null,
      "outputs": []
    }
  ]
}