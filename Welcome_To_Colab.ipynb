{
  "cells": [
    {
      "cell_type": "markdown",
      "metadata": {
        "id": "view-in-github",
        "colab_type": "text"
      },
      "source": [
        "<a href=\"https://colab.research.google.com/github/Suraj209211/PMOMEX---PREDICTIVE-MODEL-OF-MINERAL-EXPLORATION/blob/master/Welcome_To_Colab.ipynb\" target=\"_parent\"><img src=\"https://colab.research.google.com/assets/colab-badge.svg\" alt=\"Open In Colab\"/></a>"
      ]
    },
    {
      "cell_type": "code",
      "source": [
        "import geopandas as gpd\n",
        "import os\n",
        "import pandas as pd\n",
        "import numpy as np"
      ],
      "metadata": {
        "id": "fATwqxf0tvuL"
      },
      "execution_count": 13,
      "outputs": []
    },
    {
      "cell_type": "code",
      "source": [
        "def read_shapefiles(directories):\n",
        "    shapefiles = []\n",
        "    for directory in directories:\n",
        "        shapefiles.extend([os.path.join(directory, f) for f in os.listdir(directory) if f.endswith('.shp')])\n",
        "    geodataframes = [gpd.read_file(shp) for shp in shapefiles]\n",
        "    return geodataframes\n",
        "\n",
        "shapefiles_directories = ['/content/drive/MyDrive/PREDICTIVE MODULE OF MINERAL EXPLORATION/PMOMEX---PREDICTIVE-MODEL-OF-MINERAL-EXPLORATION/DATA/RAW DATA/RAJASTHAN/GEOLOGY DATA/geology_2m_gcs_ngdr_45K01',\n",
        "                          '/content/drive/MyDrive/PREDICTIVE MODULE OF MINERAL EXPLORATION/PMOMEX---PREDICTIVE-MODEL-OF-MINERAL-EXPLORATION/DATA/RAW DATA/RAJASTHAN/GEOLOGY DATA/geology_2m_gcs_ngdr_45K02',\n",
        "                          '/content/drive/MyDrive/PREDICTIVE MODULE OF MINERAL EXPLORATION/PMOMEX---PREDICTIVE-MODEL-OF-MINERAL-EXPLORATION/DATA/RAW DATA/RAJASTHAN/GEOLOGY DATA/geology_2m_gcs_ngdr_45K03',\n",
        "                          '/content/drive/MyDrive/PREDICTIVE MODULE OF MINERAL EXPLORATION/PMOMEX---PREDICTIVE-MODEL-OF-MINERAL-EXPLORATION/DATA/RAW DATA/RAJASTHAN/GEOLOGY DATA/geology_2m_gcs_ngdr_45K04',\n",
        "                          '/content/drive/MyDrive/PREDICTIVE MODULE OF MINERAL EXPLORATION/PMOMEX---PREDICTIVE-MODEL-OF-MINERAL-EXPLORATION/DATA/RAW DATA/RAJASTHAN/GEOLOGY DATA/geology_2m_gcs_ngdr_45K05']\n",
        "geodataframes = read_shapefiles(shapefiles_directories)"
      ],
      "metadata": {
        "id": "96JlDrPLtwcG"
      },
      "execution_count": 14,
      "outputs": []
    },
    {
      "cell_type": "code",
      "source": [
        "def clean_geodataframe(gdf):\n",
        "    gdf = gdf.dropna()  # Drop rows with missing values\n",
        "    gdf = gdf.drop_duplicates()  # Remove duplicate rows\n",
        "    gdf = gdf[gdf.is_valid]  # Keep only valid geometries\n",
        "    return gdf\n",
        "\n",
        "cleaned_geodataframes = [clean_geodataframe(gdf) for gdf in geodataframes]"
      ],
      "metadata": {
        "id": "W3ah1Lj1ubbW"
      },
      "execution_count": 15,
      "outputs": []
    },
    {
      "cell_type": "code",
      "source": [
        "merged_geodataframe = gpd.GeoDataFrame(pd.concat(cleaned_geodataframes, ignore_index=True))"
      ],
      "metadata": {
        "id": "ikaBCPfxudP1"
      },
      "execution_count": 16,
      "outputs": []
    },
    {
      "cell_type": "code",
      "source": [
        "output_directory = '/content/drive/MyDrive/PREDICTIVE MODULE OF MINERAL EXPLORATION/PMOMEX---PREDICTIVE-MODEL-OF-MINERAL-EXPLORATION/CODE/DATA-PREPROCESSING'\n",
        "\n",
        "def save_shapefile(gdf, filename):\n",
        "    output_path = os.path.join(output_directory, filename) # Construct the full output path within the function\n",
        "    gdf.to_file(output_path)\n",
        "\n",
        "for idx, gdf in enumerate(cleaned_geodataframes):\n",
        "    save_shapefile(gdf, f'processed_shapefile_{idx}.shp') # Call the function with just the necessary arguments"
      ],
      "metadata": {
        "id": "524gy1MruhdI",
        "outputId": "071556a0-ed69-461d-b94e-93ae9296097c",
        "colab": {
          "base_uri": "https://localhost:8080/"
        }
      },
      "execution_count": 18,
      "outputs": [
        {
          "output_type": "stream",
          "name": "stderr",
          "text": [
            "WARNING:fiona._env:Value 3167168897.05999994 of field shape_area of feature 2 not successfully written. Possibly due to too larger number with respect to field width\n",
            "WARNING:fiona._env:Value 5060993537.43999958 of field shape_area of feature 3 not successfully written. Possibly due to too larger number with respect to field width\n",
            "WARNING:fiona._env:Value 123697254.025999993 of field shape_area of feature 4 not successfully written. Possibly due to too larger number with respect to field width\n",
            "WARNING:fiona._env:Value 2999975055.88999987 of field shape_area of feature 5 not successfully written. Possibly due to too larger number with respect to field width\n",
            "WARNING:fiona._env:Value 3167168897.05999994 of field shape_area of feature 2 not successfully written. Possibly due to too larger number with respect to field width\n",
            "WARNING:fiona._env:Value 5060993537.43999958 of field shape_area of feature 3 not successfully written. Possibly due to too larger number with respect to field width\n",
            "WARNING:fiona._env:Value 494842385.425000012 of field shape_area of feature 4 not successfully written. Possibly due to too larger number with respect to field width\n",
            "WARNING:fiona._env:Value 119047193.557999998 of field shape_area of feature 5 not successfully written. Possibly due to too larger number with respect to field width\n",
            "WARNING:fiona._env:Value 119047193.557999998 of field shape_area of feature 0 not successfully written. Possibly due to too larger number with respect to field width\n",
            "WARNING:fiona._env:Value 4850573652.80000019 of field shape_area of feature 1 not successfully written. Possibly due to too larger number with respect to field width\n",
            "WARNING:fiona._env:Value 440812936.148999989 of field shape_area of feature 2 not successfully written. Possibly due to too larger number with respect to field width\n",
            "WARNING:fiona._env:Value 3167168897.05999994 of field shape_area of feature 2 not successfully written. Possibly due to too larger number with respect to field width\n",
            "WARNING:fiona._env:Value 5060993537.43999958 of field shape_area of feature 3 not successfully written. Possibly due to too larger number with respect to field width\n",
            "WARNING:fiona._env:Value 494842385.425000012 of field shape_area of feature 4 not successfully written. Possibly due to too larger number with respect to field width\n",
            "WARNING:fiona._env:Value 2999975055.88999987 of field shape_area of feature 5 not successfully written. Possibly due to too larger number with respect to field width\n"
          ]
        }
      ]
    },
    {
      "cell_type": "code",
      "source": [],
      "metadata": {
        "id": "G4TXlfk8VDhW"
      },
      "execution_count": null,
      "outputs": []
    },
    {
      "cell_type": "code",
      "source": [
        "from google.colab import drive\n",
        "drive.mount('/content/drive')"
      ],
      "metadata": {
        "id": "6F2ZMBB1VLBU",
        "outputId": "224b712a-2400-4f8a-b8ac-25be471b4787",
        "colab": {
          "base_uri": "https://localhost:8080/"
        }
      },
      "execution_count": 1,
      "outputs": [
        {
          "output_type": "stream",
          "name": "stdout",
          "text": [
            "Mounted at /content/drive\n"
          ]
        }
      ]
    },
    {
      "cell_type": "code",
      "source": [],
      "metadata": {
        "id": "fE7kA55gVvy7"
      },
      "execution_count": null,
      "outputs": []
    }
  ],
  "metadata": {
    "colab": {
      "name": "Welcome To Colab",
      "provenance": [],
      "gpuType": "T4",
      "include_colab_link": true
    },
    "kernelspec": {
      "display_name": "Python 3",
      "name": "python3"
    },
    "accelerator": "GPU"
  },
  "nbformat": 4,
  "nbformat_minor": 0
}