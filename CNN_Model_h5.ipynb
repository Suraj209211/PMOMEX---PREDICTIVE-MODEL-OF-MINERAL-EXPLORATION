{
  "cells": [
    {
      "cell_type": "markdown",
      "metadata": {
        "id": "view-in-github",
        "colab_type": "text"
      },
      "source": [
        "<a href=\"https://colab.research.google.com/github/Suraj209211/PMOMEX---PREDICTIVE-MODEL-OF-MINERAL-EXPLORATION/blob/main/CNN_Model_h5.ipynb\" target=\"_parent\"><img src=\"https://colab.research.google.com/assets/colab-badge.svg\" alt=\"Open In Colab\"/></a>"
      ]
    },
    {
      "cell_type": "code",
      "source": [
        "from google.colab import drive\n",
        "drive.mount('/content/drive')"
      ],
      "metadata": {
        "id": "oI1TSuiwbVns",
        "outputId": "25ebcc80-b989-409e-82c0-32d65cce5920",
        "colab": {
          "base_uri": "https://localhost:8080/"
        }
      },
      "execution_count": 3,
      "outputs": [
        {
          "output_type": "stream",
          "name": "stdout",
          "text": [
            "Mounted at /content/drive\n"
          ]
        }
      ]
    },
    {
      "cell_type": "markdown",
      "source": [
        "**DEVELOPMENT OF THE CNN**"
      ],
      "metadata": {
        "id": "2JeTE0EKb1qa"
      }
    },
    {
      "cell_type": "code",
      "source": [
        "import numpy as np\n",
        "import pandas as pd\n",
        "from sklearn.model_selection import train_test_split\n",
        "from sklearn.preprocessing import StandardScaler\n",
        "from tensorflow.keras.models import Sequential\n",
        "from tensorflow.keras.layers import Conv2D, MaxPooling2D, Flatten, Dense, Dropout, BatchNormalization\n",
        "from tensorflow.keras.optimizers import Adam\n",
        "from tensorflow.keras.callbacks import EarlyStopping, ReduceLROnPlateau\n",
        "import matplotlib.pyplot as plt\n"
      ],
      "metadata": {
        "id": "SnqXXIDAb1CY"
      },
      "execution_count": 29,
      "outputs": []
    },
    {
      "cell_type": "code",
      "source": [
        "file_path = '/content/drive/MyDrive/PREDICTIVE MODULE OF MINERAL EXPLORATION/PMOMEX---PREDICTIVE-MODEL-OF-MINERAL-EXPLORATION/NEW_DATA/CSV_OUTPUTS/Geophysical_data_training.csv'  # Change this to your file path\n",
        "geospatial_data = pd.read_csv(file_path)"
      ],
      "metadata": {
        "id": "Nnk9_aLQkR9Z"
      },
      "execution_count": 23,
      "outputs": []
    },
    {
      "cell_type": "markdown",
      "source": [
        "**FEATURE FOR THE DATA**"
      ],
      "metadata": {
        "id": "9nFk1w18ksQ7"
      }
    },
    {
      "cell_type": "code",
      "source": [
        "features = geospatial_data[['GravValue', 'MagneticValue']].values\n",
        "labels = geospatial_data['Cu_Concentration'].values"
      ],
      "metadata": {
        "id": "CngK556hkphO"
      },
      "execution_count": 24,
      "outputs": []
    },
    {
      "cell_type": "markdown",
      "source": [
        "**NORMALIZATION**"
      ],
      "metadata": {
        "id": "rh6qjs1Ak-2H"
      }
    },
    {
      "cell_type": "code",
      "source": [
        "scaler = StandardScaler()\n",
        "features_normalized = scaler.fit_transform(features)\n"
      ],
      "metadata": {
        "id": "zQKs7qsTkv-u"
      },
      "execution_count": 25,
      "outputs": []
    },
    {
      "cell_type": "markdown",
      "source": [
        "**RESHAPING THE DEVELOPMENT**"
      ],
      "metadata": {
        "id": "a7mIeQHYlCLE"
      }
    },
    {
      "cell_type": "code",
      "source": [
        "features_reshaped = features_normalized.reshape(-1, 1, 2, 1)"
      ],
      "metadata": {
        "id": "2oih6DgKk-f0"
      },
      "execution_count": 26,
      "outputs": []
    },
    {
      "cell_type": "markdown",
      "source": [
        "**DATA SPLITTING**"
      ],
      "metadata": {
        "id": "Qo4AhDVYnatN"
      }
    },
    {
      "cell_type": "code",
      "source": [
        "X_train, X_test, y_train, y_test = train_test_split(features_reshaped, labels, test_size=0.2, random_state=42)\n"
      ],
      "metadata": {
        "id": "1_crkehLng_2"
      },
      "execution_count": 27,
      "outputs": []
    },
    {
      "cell_type": "markdown",
      "source": [
        "**MODEL ARCHITECTURE**"
      ],
      "metadata": {
        "id": "2NykKDZNnlwv"
      }
    },
    {
      "cell_type": "code",
      "source": [
        "model = Sequential([\n",
        "    Conv2D(filters=32, kernel_size=(1, 1), activation='relu', input_shape=(1, 2, 1)),\n",
        "    BatchNormalization(),\n",
        "    MaxPooling2D(pool_size=(1, 1)),\n",
        "    Dropout(0.3),\n",
        "\n",
        "    Conv2D(filters=64, kernel_size=(1, 1), activation='relu'),\n",
        "    BatchNormalization(),\n",
        "    MaxPooling2D(pool_size=(1, 1)),\n",
        "    Dropout(0.3),\n",
        "\n",
        "    Flatten(),\n",
        "    Dense(units=128, activation='relu'),\n",
        "    Dropout(0.3),\n",
        "    Dense(units=64, activation='relu'),\n",
        "    Dense(units=1, activation='linear')  # For regression\n",
        "])"
      ],
      "metadata": {
        "id": "Zqo8MyZwnlgh"
      },
      "execution_count": 30,
      "outputs": []
    },
    {
      "cell_type": "markdown",
      "source": [
        "**MODEL COMPILATION**"
      ],
      "metadata": {
        "id": "qKhzO8GVoEFH"
      }
    },
    {
      "cell_type": "code",
      "source": [
        "model.compile(optimizer=Adam(learning_rate=0.001), loss='mean_squared_error', metrics=['mae'])"
      ],
      "metadata": {
        "id": "C_HC34k5oDZW"
      },
      "execution_count": 32,
      "outputs": []
    },
    {
      "cell_type": "markdown",
      "source": [
        "**EARLY STOPPING**"
      ],
      "metadata": {
        "id": "IUPS1_M2oc9J"
      }
    },
    {
      "cell_type": "code",
      "source": [
        "early_stopping = EarlyStopping(monitor='val_loss', patience=10, restore_best_weights=True)\n",
        "reduce_lr = ReduceLROnPlateau(monitor='val_loss', factor=0.2, patience=5, min_lr=0.0001)"
      ],
      "metadata": {
        "id": "2zi8IfogocuL"
      },
      "execution_count": 33,
      "outputs": []
    },
    {
      "cell_type": "markdown",
      "source": [
        "**Train the model**"
      ],
      "metadata": {
        "id": "d80zWySTo0ZT"
      }
    },
    {
      "cell_type": "code",
      "source": [
        "history = model.fit(X_train, y_train,\n",
        "                    validation_data=(X_test, y_test),\n",
        "                    epochs=100,\n",
        "                    batch_size=32,\n",
        "                    callbacks=[early_stopping, reduce_lr])\n"
      ],
      "metadata": {
        "colab": {
          "base_uri": "https://localhost:8080/"
        },
        "id": "N3sIiYmQo4_W",
        "outputId": "bc3e6ec6-0003-4787-f8db-302bc984de8f"
      },
      "execution_count": 35,
      "outputs": [
        {
          "output_type": "stream",
          "name": "stdout",
          "text": [
            "Epoch 1/100\n",
            "\u001b[1m107/107\u001b[0m \u001b[32m━━━━━━━━━━━━━━━━━━━━\u001b[0m\u001b[37m\u001b[0m \u001b[1m0s\u001b[0m 3ms/step - loss: 0.0945 - mae: 0.2301 - val_loss: 0.0589 - val_mae: 0.1761 - learning_rate: 0.0010\n",
            "Epoch 2/100\n",
            "\u001b[1m107/107\u001b[0m \u001b[32m━━━━━━━━━━━━━━━━━━━━\u001b[0m\u001b[37m\u001b[0m \u001b[1m1s\u001b[0m 3ms/step - loss: 0.0857 - mae: 0.2142 - val_loss: 0.0649 - val_mae: 0.2009 - learning_rate: 0.0010\n",
            "Epoch 3/100\n",
            "\u001b[1m107/107\u001b[0m \u001b[32m━━━━━━━━━━━━━━━━━━━━\u001b[0m\u001b[37m\u001b[0m \u001b[1m0s\u001b[0m 3ms/step - loss: 0.0886 - mae: 0.2208 - val_loss: 0.0517 - val_mae: 0.1461 - learning_rate: 0.0010\n",
            "Epoch 4/100\n",
            "\u001b[1m107/107\u001b[0m \u001b[32m━━━━━━━━━━━━━━━━━━━━\u001b[0m\u001b[37m\u001b[0m \u001b[1m0s\u001b[0m 2ms/step - loss: 0.0888 - mae: 0.2208 - val_loss: 0.0579 - val_mae: 0.1710 - learning_rate: 0.0010\n",
            "Epoch 5/100\n",
            "\u001b[1m107/107\u001b[0m \u001b[32m━━━━━━━━━━━━━━━━━━━━\u001b[0m\u001b[37m\u001b[0m \u001b[1m0s\u001b[0m 3ms/step - loss: 0.0810 - mae: 0.2074 - val_loss: 0.0555 - val_mae: 0.1662 - learning_rate: 0.0010\n",
            "Epoch 6/100\n",
            "\u001b[1m107/107\u001b[0m \u001b[32m━━━━━━━━━━━━━━━━━━━━\u001b[0m\u001b[37m\u001b[0m \u001b[1m0s\u001b[0m 3ms/step - loss: 0.0858 - mae: 0.2138 - val_loss: 0.0510 - val_mae: 0.1431 - learning_rate: 0.0010\n",
            "Epoch 7/100\n",
            "\u001b[1m107/107\u001b[0m \u001b[32m━━━━━━━━━━━━━━━━━━━━\u001b[0m\u001b[37m\u001b[0m \u001b[1m1s\u001b[0m 3ms/step - loss: 0.0767 - mae: 0.1952 - val_loss: 0.0535 - val_mae: 0.1597 - learning_rate: 0.0010\n",
            "Epoch 8/100\n",
            "\u001b[1m107/107\u001b[0m \u001b[32m━━━━━━━━━━━━━━━━━━━━\u001b[0m\u001b[37m\u001b[0m \u001b[1m1s\u001b[0m 4ms/step - loss: 0.0779 - mae: 0.2012 - val_loss: 0.0556 - val_mae: 0.1672 - learning_rate: 0.0010\n",
            "Epoch 9/100\n",
            "\u001b[1m107/107\u001b[0m \u001b[32m━━━━━━━━━━━━━━━━━━━━\u001b[0m\u001b[37m\u001b[0m \u001b[1m0s\u001b[0m 4ms/step - loss: 0.0736 - mae: 0.1888 - val_loss: 0.0505 - val_mae: 0.1546 - learning_rate: 0.0010\n",
            "Epoch 10/100\n",
            "\u001b[1m107/107\u001b[0m \u001b[32m━━━━━━━━━━━━━━━━━━━━\u001b[0m\u001b[37m\u001b[0m \u001b[1m0s\u001b[0m 4ms/step - loss: 0.0700 - mae: 0.1865 - val_loss: 0.0559 - val_mae: 0.1752 - learning_rate: 0.0010\n",
            "Epoch 11/100\n",
            "\u001b[1m107/107\u001b[0m \u001b[32m━━━━━━━━━━━━━━━━━━━━\u001b[0m\u001b[37m\u001b[0m \u001b[1m1s\u001b[0m 5ms/step - loss: 0.0735 - mae: 0.1900 - val_loss: 0.0495 - val_mae: 0.1520 - learning_rate: 0.0010\n",
            "Epoch 12/100\n",
            "\u001b[1m107/107\u001b[0m \u001b[32m━━━━━━━━━━━━━━━━━━━━\u001b[0m\u001b[37m\u001b[0m \u001b[1m1s\u001b[0m 4ms/step - loss: 0.0746 - mae: 0.1910 - val_loss: 0.0458 - val_mae: 0.1365 - learning_rate: 0.0010\n",
            "Epoch 13/100\n",
            "\u001b[1m107/107\u001b[0m \u001b[32m━━━━━━━━━━━━━━━━━━━━\u001b[0m\u001b[37m\u001b[0m \u001b[1m0s\u001b[0m 4ms/step - loss: 0.0705 - mae: 0.1813 - val_loss: 0.0632 - val_mae: 0.1905 - learning_rate: 0.0010\n",
            "Epoch 14/100\n",
            "\u001b[1m107/107\u001b[0m \u001b[32m━━━━━━━━━━━━━━━━━━━━\u001b[0m\u001b[37m\u001b[0m \u001b[1m0s\u001b[0m 3ms/step - loss: 0.0673 - mae: 0.1782 - val_loss: 0.0499 - val_mae: 0.1635 - learning_rate: 0.0010\n",
            "Epoch 15/100\n",
            "\u001b[1m107/107\u001b[0m \u001b[32m━━━━━━━━━━━━━━━━━━━━\u001b[0m\u001b[37m\u001b[0m \u001b[1m0s\u001b[0m 3ms/step - loss: 0.0697 - mae: 0.1781 - val_loss: 0.0482 - val_mae: 0.1582 - learning_rate: 0.0010\n",
            "Epoch 16/100\n",
            "\u001b[1m107/107\u001b[0m \u001b[32m━━━━━━━━━━━━━━━━━━━━\u001b[0m\u001b[37m\u001b[0m \u001b[1m1s\u001b[0m 3ms/step - loss: 0.0593 - mae: 0.1686 - val_loss: 0.0410 - val_mae: 0.1248 - learning_rate: 0.0010\n",
            "Epoch 17/100\n",
            "\u001b[1m107/107\u001b[0m \u001b[32m━━━━━━━━━━━━━━━━━━━━\u001b[0m\u001b[37m\u001b[0m \u001b[1m0s\u001b[0m 3ms/step - loss: 0.0623 - mae: 0.1687 - val_loss: 0.0460 - val_mae: 0.1493 - learning_rate: 0.0010\n",
            "Epoch 18/100\n",
            "\u001b[1m107/107\u001b[0m \u001b[32m━━━━━━━━━━━━━━━━━━━━\u001b[0m\u001b[37m\u001b[0m \u001b[1m0s\u001b[0m 3ms/step - loss: 0.0673 - mae: 0.1764 - val_loss: 0.0435 - val_mae: 0.1363 - learning_rate: 0.0010\n",
            "Epoch 19/100\n",
            "\u001b[1m107/107\u001b[0m \u001b[32m━━━━━━━━━━━━━━━━━━━━\u001b[0m\u001b[37m\u001b[0m \u001b[1m0s\u001b[0m 3ms/step - loss: 0.0592 - mae: 0.1586 - val_loss: 0.0427 - val_mae: 0.1428 - learning_rate: 0.0010\n",
            "Epoch 20/100\n",
            "\u001b[1m107/107\u001b[0m \u001b[32m━━━━━━━━━━━━━━━━━━━━\u001b[0m\u001b[37m\u001b[0m \u001b[1m0s\u001b[0m 3ms/step - loss: 0.0671 - mae: 0.1735 - val_loss: 0.0456 - val_mae: 0.1535 - learning_rate: 0.0010\n",
            "Epoch 21/100\n",
            "\u001b[1m107/107\u001b[0m \u001b[32m━━━━━━━━━━━━━━━━━━━━\u001b[0m\u001b[37m\u001b[0m \u001b[1m0s\u001b[0m 3ms/step - loss: 0.0597 - mae: 0.1597 - val_loss: 0.0402 - val_mae: 0.1279 - learning_rate: 0.0010\n",
            "Epoch 22/100\n",
            "\u001b[1m107/107\u001b[0m \u001b[32m━━━━━━━━━━━━━━━━━━━━\u001b[0m\u001b[37m\u001b[0m \u001b[1m1s\u001b[0m 3ms/step - loss: 0.0579 - mae: 0.1578 - val_loss: 0.0419 - val_mae: 0.1290 - learning_rate: 0.0010\n",
            "Epoch 23/100\n",
            "\u001b[1m107/107\u001b[0m \u001b[32m━━━━━━━━━━━━━━━━━━━━\u001b[0m\u001b[37m\u001b[0m \u001b[1m1s\u001b[0m 3ms/step - loss: 0.0557 - mae: 0.1558 - val_loss: 0.0378 - val_mae: 0.1255 - learning_rate: 0.0010\n",
            "Epoch 24/100\n",
            "\u001b[1m107/107\u001b[0m \u001b[32m━━━━━━━━━━━━━━━━━━━━\u001b[0m\u001b[37m\u001b[0m \u001b[1m0s\u001b[0m 3ms/step - loss: 0.0510 - mae: 0.1461 - val_loss: 0.0409 - val_mae: 0.1248 - learning_rate: 0.0010\n",
            "Epoch 25/100\n",
            "\u001b[1m107/107\u001b[0m \u001b[32m━━━━━━━━━━━━━━━━━━━━\u001b[0m\u001b[37m\u001b[0m \u001b[1m1s\u001b[0m 3ms/step - loss: 0.0663 - mae: 0.1657 - val_loss: 0.0370 - val_mae: 0.1263 - learning_rate: 0.0010\n",
            "Epoch 26/100\n",
            "\u001b[1m107/107\u001b[0m \u001b[32m━━━━━━━━━━━━━━━━━━━━\u001b[0m\u001b[37m\u001b[0m \u001b[1m1s\u001b[0m 3ms/step - loss: 0.0559 - mae: 0.1519 - val_loss: 0.0473 - val_mae: 0.1398 - learning_rate: 0.0010\n",
            "Epoch 27/100\n",
            "\u001b[1m107/107\u001b[0m \u001b[32m━━━━━━━━━━━━━━━━━━━━\u001b[0m\u001b[37m\u001b[0m \u001b[1m0s\u001b[0m 2ms/step - loss: 0.0517 - mae: 0.1450 - val_loss: 0.0392 - val_mae: 0.1238 - learning_rate: 0.0010\n",
            "Epoch 28/100\n",
            "\u001b[1m107/107\u001b[0m \u001b[32m━━━━━━━━━━━━━━━━━━━━\u001b[0m\u001b[37m\u001b[0m \u001b[1m0s\u001b[0m 3ms/step - loss: 0.0516 - mae: 0.1431 - val_loss: 0.0384 - val_mae: 0.1295 - learning_rate: 0.0010\n",
            "Epoch 29/100\n",
            "\u001b[1m107/107\u001b[0m \u001b[32m━━━━━━━━━━━━━━━━━━━━\u001b[0m\u001b[37m\u001b[0m \u001b[1m1s\u001b[0m 3ms/step - loss: 0.0531 - mae: 0.1448 - val_loss: 0.0388 - val_mae: 0.1360 - learning_rate: 0.0010\n",
            "Epoch 30/100\n",
            "\u001b[1m107/107\u001b[0m \u001b[32m━━━━━━━━━━━━━━━━━━━━\u001b[0m\u001b[37m\u001b[0m \u001b[1m1s\u001b[0m 3ms/step - loss: 0.0498 - mae: 0.1382 - val_loss: 0.0351 - val_mae: 0.1202 - learning_rate: 0.0010\n",
            "Epoch 31/100\n",
            "\u001b[1m107/107\u001b[0m \u001b[32m━━━━━━━━━━━━━━━━━━━━\u001b[0m\u001b[37m\u001b[0m \u001b[1m0s\u001b[0m 3ms/step - loss: 0.0467 - mae: 0.1316 - val_loss: 0.0365 - val_mae: 0.1255 - learning_rate: 0.0010\n",
            "Epoch 32/100\n",
            "\u001b[1m107/107\u001b[0m \u001b[32m━━━━━━━━━━━━━━━━━━━━\u001b[0m\u001b[37m\u001b[0m \u001b[1m0s\u001b[0m 3ms/step - loss: 0.0513 - mae: 0.1372 - val_loss: 0.0343 - val_mae: 0.1164 - learning_rate: 0.0010\n",
            "Epoch 33/100\n",
            "\u001b[1m107/107\u001b[0m \u001b[32m━━━━━━━━━━━━━━━━━━━━\u001b[0m\u001b[37m\u001b[0m \u001b[1m0s\u001b[0m 3ms/step - loss: 0.0537 - mae: 0.1407 - val_loss: 0.0365 - val_mae: 0.1173 - learning_rate: 0.0010\n",
            "Epoch 34/100\n",
            "\u001b[1m107/107\u001b[0m \u001b[32m━━━━━━━━━━━━━━━━━━━━\u001b[0m\u001b[37m\u001b[0m \u001b[1m0s\u001b[0m 3ms/step - loss: 0.0533 - mae: 0.1397 - val_loss: 0.0319 - val_mae: 0.1014 - learning_rate: 0.0010\n",
            "Epoch 35/100\n",
            "\u001b[1m107/107\u001b[0m \u001b[32m━━━━━━━━━━━━━━━━━━━━\u001b[0m\u001b[37m\u001b[0m \u001b[1m1s\u001b[0m 3ms/step - loss: 0.0519 - mae: 0.1344 - val_loss: 0.0327 - val_mae: 0.1011 - learning_rate: 0.0010\n",
            "Epoch 36/100\n",
            "\u001b[1m107/107\u001b[0m \u001b[32m━━━━━━━━━━━━━━━━━━━━\u001b[0m\u001b[37m\u001b[0m \u001b[1m1s\u001b[0m 2ms/step - loss: 0.0497 - mae: 0.1332 - val_loss: 0.0299 - val_mae: 0.0990 - learning_rate: 0.0010\n",
            "Epoch 37/100\n",
            "\u001b[1m107/107\u001b[0m \u001b[32m━━━━━━━━━━━━━━━━━━━━\u001b[0m\u001b[37m\u001b[0m \u001b[1m0s\u001b[0m 3ms/step - loss: 0.0508 - mae: 0.1339 - val_loss: 0.0312 - val_mae: 0.1083 - learning_rate: 0.0010\n",
            "Epoch 38/100\n",
            "\u001b[1m107/107\u001b[0m \u001b[32m━━━━━━━━━━━━━━━━━━━━\u001b[0m\u001b[37m\u001b[0m \u001b[1m1s\u001b[0m 4ms/step - loss: 0.0522 - mae: 0.1321 - val_loss: 0.0357 - val_mae: 0.1053 - learning_rate: 0.0010\n",
            "Epoch 39/100\n",
            "\u001b[1m107/107\u001b[0m \u001b[32m━━━━━━━━━━━━━━━━━━━━\u001b[0m\u001b[37m\u001b[0m \u001b[1m0s\u001b[0m 4ms/step - loss: 0.0513 - mae: 0.1304 - val_loss: 0.0330 - val_mae: 0.1094 - learning_rate: 0.0010\n",
            "Epoch 40/100\n",
            "\u001b[1m107/107\u001b[0m \u001b[32m━━━━━━━━━━━━━━━━━━━━\u001b[0m\u001b[37m\u001b[0m \u001b[1m1s\u001b[0m 4ms/step - loss: 0.0397 - mae: 0.1137 - val_loss: 0.0364 - val_mae: 0.1229 - learning_rate: 0.0010\n",
            "Epoch 41/100\n",
            "\u001b[1m107/107\u001b[0m \u001b[32m━━━━━━━━━━━━━━━━━━━━\u001b[0m\u001b[37m\u001b[0m \u001b[1m0s\u001b[0m 4ms/step - loss: 0.0493 - mae: 0.1279 - val_loss: 0.0321 - val_mae: 0.0923 - learning_rate: 0.0010\n",
            "Epoch 42/100\n",
            "\u001b[1m107/107\u001b[0m \u001b[32m━━━━━━━━━━━━━━━━━━━━\u001b[0m\u001b[37m\u001b[0m \u001b[1m1s\u001b[0m 4ms/step - loss: 0.0479 - mae: 0.1219 - val_loss: 0.0303 - val_mae: 0.0978 - learning_rate: 2.0000e-04\n",
            "Epoch 43/100\n",
            "\u001b[1m107/107\u001b[0m \u001b[32m━━━━━━━━━━━━━━━━━━━━\u001b[0m\u001b[37m\u001b[0m \u001b[1m0s\u001b[0m 4ms/step - loss: 0.0377 - mae: 0.1067 - val_loss: 0.0324 - val_mae: 0.1020 - learning_rate: 2.0000e-04\n",
            "Epoch 44/100\n",
            "\u001b[1m107/107\u001b[0m \u001b[32m━━━━━━━━━━━━━━━━━━━━\u001b[0m\u001b[37m\u001b[0m \u001b[1m0s\u001b[0m 2ms/step - loss: 0.0419 - mae: 0.1128 - val_loss: 0.0301 - val_mae: 0.0983 - learning_rate: 2.0000e-04\n",
            "Epoch 45/100\n",
            "\u001b[1m107/107\u001b[0m \u001b[32m━━━━━━━━━━━━━━━━━━━━\u001b[0m\u001b[37m\u001b[0m \u001b[1m0s\u001b[0m 3ms/step - loss: 0.0447 - mae: 0.1161 - val_loss: 0.0298 - val_mae: 0.0974 - learning_rate: 2.0000e-04\n",
            "Epoch 46/100\n",
            "\u001b[1m107/107\u001b[0m \u001b[32m━━━━━━━━━━━━━━━━━━━━\u001b[0m\u001b[37m\u001b[0m \u001b[1m0s\u001b[0m 3ms/step - loss: 0.0375 - mae: 0.1021 - val_loss: 0.0308 - val_mae: 0.1058 - learning_rate: 2.0000e-04\n",
            "Epoch 47/100\n",
            "\u001b[1m107/107\u001b[0m \u001b[32m━━━━━━━━━━━━━━━━━━━━\u001b[0m\u001b[37m\u001b[0m \u001b[1m1s\u001b[0m 3ms/step - loss: 0.0421 - mae: 0.1097 - val_loss: 0.0293 - val_mae: 0.0966 - learning_rate: 1.0000e-04\n",
            "Epoch 48/100\n",
            "\u001b[1m107/107\u001b[0m \u001b[32m━━━━━━━━━━━━━━━━━━━━\u001b[0m\u001b[37m\u001b[0m \u001b[1m0s\u001b[0m 3ms/step - loss: 0.0409 - mae: 0.1105 - val_loss: 0.0299 - val_mae: 0.0964 - learning_rate: 1.0000e-04\n",
            "Epoch 49/100\n",
            "\u001b[1m107/107\u001b[0m \u001b[32m━━━━━━━━━━━━━━━━━━━━\u001b[0m\u001b[37m\u001b[0m \u001b[1m0s\u001b[0m 3ms/step - loss: 0.0418 - mae: 0.1103 - val_loss: 0.0290 - val_mae: 0.0964 - learning_rate: 1.0000e-04\n",
            "Epoch 50/100\n",
            "\u001b[1m107/107\u001b[0m \u001b[32m━━━━━━━━━━━━━━━━━━━━\u001b[0m\u001b[37m\u001b[0m \u001b[1m0s\u001b[0m 3ms/step - loss: 0.0403 - mae: 0.1066 - val_loss: 0.0295 - val_mae: 0.0947 - learning_rate: 1.0000e-04\n",
            "Epoch 51/100\n",
            "\u001b[1m107/107\u001b[0m \u001b[32m━━━━━━━━━━━━━━━━━━━━\u001b[0m\u001b[37m\u001b[0m \u001b[1m0s\u001b[0m 3ms/step - loss: 0.0415 - mae: 0.1079 - val_loss: 0.0293 - val_mae: 0.0984 - learning_rate: 1.0000e-04\n",
            "Epoch 52/100\n",
            "\u001b[1m107/107\u001b[0m \u001b[32m━━━━━━━━━━━━━━━━━━━━\u001b[0m\u001b[37m\u001b[0m \u001b[1m0s\u001b[0m 3ms/step - loss: 0.0439 - mae: 0.1089 - val_loss: 0.0299 - val_mae: 0.1014 - learning_rate: 1.0000e-04\n",
            "Epoch 53/100\n",
            "\u001b[1m107/107\u001b[0m \u001b[32m━━━━━━━━━━━━━━━━━━━━\u001b[0m\u001b[37m\u001b[0m \u001b[1m0s\u001b[0m 3ms/step - loss: 0.0422 - mae: 0.1103 - val_loss: 0.0298 - val_mae: 0.0968 - learning_rate: 1.0000e-04\n",
            "Epoch 54/100\n",
            "\u001b[1m107/107\u001b[0m \u001b[32m━━━━━━━━━━━━━━━━━━━━\u001b[0m\u001b[37m\u001b[0m \u001b[1m0s\u001b[0m 3ms/step - loss: 0.0406 - mae: 0.1069 - val_loss: 0.0289 - val_mae: 0.0967 - learning_rate: 1.0000e-04\n",
            "Epoch 55/100\n",
            "\u001b[1m107/107\u001b[0m \u001b[32m━━━━━━━━━━━━━━━━━━━━\u001b[0m\u001b[37m\u001b[0m \u001b[1m0s\u001b[0m 3ms/step - loss: 0.0398 - mae: 0.1053 - val_loss: 0.0285 - val_mae: 0.0959 - learning_rate: 1.0000e-04\n",
            "Epoch 56/100\n",
            "\u001b[1m107/107\u001b[0m \u001b[32m━━━━━━━━━━━━━━━━━━━━\u001b[0m\u001b[37m\u001b[0m \u001b[1m1s\u001b[0m 3ms/step - loss: 0.0398 - mae: 0.1037 - val_loss: 0.0297 - val_mae: 0.0992 - learning_rate: 1.0000e-04\n",
            "Epoch 57/100\n",
            "\u001b[1m107/107\u001b[0m \u001b[32m━━━━━━━━━━━━━━━━━━━━\u001b[0m\u001b[37m\u001b[0m \u001b[1m0s\u001b[0m 3ms/step - loss: 0.0366 - mae: 0.1004 - val_loss: 0.0282 - val_mae: 0.0923 - learning_rate: 1.0000e-04\n",
            "Epoch 58/100\n",
            "\u001b[1m107/107\u001b[0m \u001b[32m━━━━━━━━━━━━━━━━━━━━\u001b[0m\u001b[37m\u001b[0m \u001b[1m0s\u001b[0m 3ms/step - loss: 0.0447 - mae: 0.1108 - val_loss: 0.0287 - val_mae: 0.0918 - learning_rate: 1.0000e-04\n",
            "Epoch 59/100\n",
            "\u001b[1m107/107\u001b[0m \u001b[32m━━━━━━━━━━━━━━━━━━━━\u001b[0m\u001b[37m\u001b[0m \u001b[1m0s\u001b[0m 2ms/step - loss: 0.0421 - mae: 0.1079 - val_loss: 0.0296 - val_mae: 0.0945 - learning_rate: 1.0000e-04\n",
            "Epoch 60/100\n",
            "\u001b[1m107/107\u001b[0m \u001b[32m━━━━━━━━━━━━━━━━━━━━\u001b[0m\u001b[37m\u001b[0m \u001b[1m0s\u001b[0m 3ms/step - loss: 0.0424 - mae: 0.1076 - val_loss: 0.0292 - val_mae: 0.0970 - learning_rate: 1.0000e-04\n",
            "Epoch 61/100\n",
            "\u001b[1m107/107\u001b[0m \u001b[32m━━━━━━━━━━━━━━━━━━━━\u001b[0m\u001b[37m\u001b[0m \u001b[1m0s\u001b[0m 2ms/step - loss: 0.0397 - mae: 0.1055 - val_loss: 0.0291 - val_mae: 0.0941 - learning_rate: 1.0000e-04\n",
            "Epoch 62/100\n",
            "\u001b[1m107/107\u001b[0m \u001b[32m━━━━━━━━━━━━━━━━━━━━\u001b[0m\u001b[37m\u001b[0m \u001b[1m0s\u001b[0m 2ms/step - loss: 0.0396 - mae: 0.1034 - val_loss: 0.0293 - val_mae: 0.0977 - learning_rate: 1.0000e-04\n",
            "Epoch 63/100\n",
            "\u001b[1m107/107\u001b[0m \u001b[32m━━━━━━━━━━━━━━━━━━━━\u001b[0m\u001b[37m\u001b[0m \u001b[1m0s\u001b[0m 3ms/step - loss: 0.0405 - mae: 0.1052 - val_loss: 0.0290 - val_mae: 0.0957 - learning_rate: 1.0000e-04\n",
            "Epoch 64/100\n",
            "\u001b[1m107/107\u001b[0m \u001b[32m━━━━━━━━━━━━━━━━━━━━\u001b[0m\u001b[37m\u001b[0m \u001b[1m1s\u001b[0m 3ms/step - loss: 0.0380 - mae: 0.1020 - val_loss: 0.0288 - val_mae: 0.0936 - learning_rate: 1.0000e-04\n",
            "Epoch 65/100\n",
            "\u001b[1m107/107\u001b[0m \u001b[32m━━━━━━━━━━━━━━━━━━━━\u001b[0m\u001b[37m\u001b[0m \u001b[1m0s\u001b[0m 3ms/step - loss: 0.0386 - mae: 0.1026 - val_loss: 0.0301 - val_mae: 0.0972 - learning_rate: 1.0000e-04\n",
            "Epoch 66/100\n",
            "\u001b[1m107/107\u001b[0m \u001b[32m━━━━━━━━━━━━━━━━━━━━\u001b[0m\u001b[37m\u001b[0m \u001b[1m0s\u001b[0m 3ms/step - loss: 0.0380 - mae: 0.1005 - val_loss: 0.0302 - val_mae: 0.0979 - learning_rate: 1.0000e-04\n",
            "Epoch 67/100\n",
            "\u001b[1m107/107\u001b[0m \u001b[32m━━━━━━━━━━━━━━━━━━━━\u001b[0m\u001b[37m\u001b[0m \u001b[1m1s\u001b[0m 3ms/step - loss: 0.0366 - mae: 0.0975 - val_loss: 0.0296 - val_mae: 0.0981 - learning_rate: 1.0000e-04\n"
          ]
        }
      ]
    },
    {
      "cell_type": "markdown",
      "source": [
        "** **"
      ],
      "metadata": {
        "id": "F7eEYf5lq6c6"
      }
    },
    {
      "cell_type": "markdown",
      "source": [
        "**MODEL DATA EVALUATION**"
      ],
      "metadata": {
        "id": "gX_lieaPrix3"
      }
    },
    {
      "cell_type": "code",
      "source": [
        "test_loss, test_mae = model.evaluate(X_test, y_test)\n",
        "print(f\"Test MAE: {test_mae}\")\n"
      ],
      "metadata": {
        "colab": {
          "base_uri": "https://localhost:8080/"
        },
        "id": "i0JrSYwFq5S8",
        "outputId": "0ce0f567-fbb9-4029-bc64-dd71d7a07487"
      },
      "execution_count": 37,
      "outputs": [
        {
          "output_type": "stream",
          "name": "stdout",
          "text": [
            "\u001b[1m27/27\u001b[0m \u001b[32m━━━━━━━━━━━━━━━━━━━━\u001b[0m\u001b[37m\u001b[0m \u001b[1m0s\u001b[0m 1ms/step - loss: 0.0275 - mae: 0.0926 \n",
            "Test MAE: 0.09231498837471008\n"
          ]
        }
      ]
    },
    {
      "cell_type": "code",
      "source": [
        "plt.figure(figsize=(10, 6))\n",
        "plt.plot(history.history['loss'], label='Training Loss')\n",
        "plt.plot(history.history['val_loss'], label='Validation Loss')\n",
        "plt.xlabel('Epochs')\n",
        "plt.ylabel('Loss')\n",
        "plt.title('Training and Validation Loss')\n",
        "plt.legend()\n",
        "plt.show()\n"
      ],
      "metadata": {
        "colab": {
          "base_uri": "https://localhost:8080/",
          "height": 563
        },
        "id": "fZPjfnJ9sHJI",
        "outputId": "214a07f4-2a68-47bf-92f3-d526ff5724d3"
      },
      "execution_count": 38,
      "outputs": [
        {
          "output_type": "display_data",
          "data": {
            "text/plain": [
              "<Figure size 1000x600 with 1 Axes>"
            ],
            "image/png": "[encoded data removed]"
          },
          "metadata": {}
        }
      ]
    },
    {
      "cell_type": "code",
      "source": [
        "predictions = model.predict(X_test)"
      ],
      "metadata": {
        "colab": {
          "base_uri": "https://localhost:8080/"
        },
        "id": "2MJHw-16hDxM",
        "outputId": "7e0b32d1-8c2b-48f3-a4aa-788273850259"
      },
      "execution_count": 39,
      "outputs": [
        {
          "output_type": "stream",
          "name": "stdout",
          "text": [
            "\u001b[1m27/27\u001b[0m \u001b[32m━━━━━━━━━━━━━━━━━━━━\u001b[0m\u001b[37m\u001b[0m \u001b[1m1s\u001b[0m 12ms/step\n"
          ]
        }
      ]
    },
    {
      "cell_type": "code",
      "source": [
        "print(f\"Predicted values: {predictions[:5]}\")\n",
        "print(f\"Actual values: {y_test[:5]}\")"
      ],
      "metadata": {
        "colab": {
          "base_uri": "https://localhost:8080/"
        },
        "id": "YruK0vt3kNIY",
        "outputId": "b2d93f74-d603-496c-f51b-4f5a05c1de66"
      },
      "execution_count": 40,
      "outputs": [
        {
          "output_type": "stream",
          "name": "stdout",
          "text": [
            "Predicted values: [[0.9428415 ]\n",
            " [0.97307163]\n",
            " [0.96478397]\n",
            " [0.6854304 ]\n",
            " [0.02346651]]\n",
            "Actual values: [1 1 1 1 0]\n"
          ]
        }
      ]
    },
    {
      "cell_type": "code",
      "source": [
        "model.save('/content/drive/MyDrive/PREDICTIVE MODULE OF MINERAL EXPLORATION/PMOMEX---PREDICTIVE-MODEL-OF-MINERAL-EXPLORATION/CODE/MODEL/cnn_model.h5')"
      ],
      "metadata": {
        "colab": {
          "base_uri": "https://localhost:8080/"
        },
        "id": "OYK0MC_BknSo",
        "outputId": "632df39c-bdef-4b1a-9f7e-d1a4a1778313"
      },
      "execution_count": 41,
      "outputs": [
        {
          "output_type": "stream",
          "name": "stderr",
          "text": [
            "WARNING:absl:You are saving your model as an HDF5 file via `model.save()` or `keras.saving.save_model(model)`. This file format is considered legacy. We recommend using instead the native Keras format, e.g. `model.save('my_model.keras')` or `keras.saving.save_model(model, 'my_model.keras')`. \n"
          ]
        }
      ]
    }
  ],
  "metadata": {
    "colab": {
      "provenance": [],
      "gpuType": "T4",
      "include_colab_link": true
    },
    "kernelspec": {
      "display_name": "Python 3",
      "name": "python3"
    },
    "accelerator": "GPU"
  },
  "nbformat": 4,
  "nbformat_minor": 0
}