{
  "nbformat": 4,
  "nbformat_minor": 0,
  "metadata": {
    "colab": {
      "private_outputs": true,
      "provenance": [],
      "mount_file_id": "1RhKs7wKfCWHHXh2JSWcddd-rmOu9dhG0",
      "authorship_tag": "ABX9TyOE9SAZoRPjV2oiJpq7QwMj",
      "include_colab_link": true
    },
    "kernelspec": {
      "name": "python3",
      "display_name": "Python 3"
    },
    "language_info": {
      "name": "python"
    }
  },
  "cells": [
    {
      "cell_type": "markdown",
      "metadata": {
        "id": "view-in-github",
        "colab_type": "text"
      },
      "source": [
        "<a href=\"https://colab.research.google.com/github/Suraj209211/PMOMEX---PREDICTIVE-MODEL-OF-MINERAL-EXPLORATION/blob/main/RF_DL_Hybrid_Mineral_Classifier.ipynb\" target=\"_parent\"><img src=\"https://colab.research.google.com/assets/colab-badge.svg\" alt=\"Open In Colab\"/></a>"
      ]
    },
    {
      "cell_type": "code",
      "execution_count": null,
      "metadata": {
        "id": "k_L4pR3HfS-f"
      },
      "outputs": [],
      "source": [
        "import pandas as pd\n",
        "from sklearn.model_selection import train_test_split\n",
        "from sklearn.preprocessing import StandardScaler\n",
        "from sklearn.ensemble import RandomForestClassifier\n",
        "import tensorflow as tf\n",
        "from tensorflow.keras import layers, models"
      ]
    },
    {
      "cell_type": "code",
      "source": [
        "data_new = pd.read_csv('/content/drive/MyDrive/PREDICTIVE MODULE OF MINERAL EXPLORATION/PMOMEX---PREDICTIVE-MODEL-OF-MINERAL-EXPLORATION/NEW_DATA/CSV_OUTPUTS/finaldata_geophysicalchemical.csv')"
      ],
      "metadata": {
        "id": "u5iM2ZwVf0Zi"
      },
      "execution_count": null,
      "outputs": []
    },
    {
      "cell_type": "code",
      "source": [
        "data_new"
      ],
      "metadata": {
        "id": "ZjMuXrjLho63"
      },
      "execution_count": null,
      "outputs": []
    },
    {
      "cell_type": "code",
      "source": [
        "X_new = data_new.drop(columns=['X', 'Y', 'PROBABILITY'])\n",
        "y_new = data_new['PROBABILITY']"
      ],
      "metadata": {
        "id": "tCc_wxpIhrQu"
      },
      "execution_count": null,
      "outputs": []
    },
    {
      "cell_type": "code",
      "source": [
        "scaler = StandardScaler()\n",
        "X_scaled_new = scaler.fit_transform(X_new)\n"
      ],
      "metadata": {
        "id": "Vjs481cDiiNa"
      },
      "execution_count": null,
      "outputs": []
    },
    {
      "cell_type": "code",
      "source": [
        "X_train_new, X_test_new, y_train_new, y_test_new = train_test_split(X_scaled_new, y_new, test_size=0.2, random_state=42)\n"
      ],
      "metadata": {
        "id": "LPK1fC9bikRW"
      },
      "execution_count": null,
      "outputs": []
    },
    {
      "cell_type": "code",
      "source": [
        "rf_advanced_model = RandomForestClassifier(n_estimators=100, random_state=42)\n",
        "rf_advanced_model.fit(X_train_new, y_train_new)\n"
      ],
      "metadata": {
        "id": "gPLOCHicipnj"
      },
      "execution_count": null,
      "outputs": []
    },
    {
      "cell_type": "code",
      "source": [
        "important_features = rf_advanced_model.feature_importances_"
      ],
      "metadata": {
        "id": "Mpi4o6dyir75"
      },
      "execution_count": null,
      "outputs": []
    },
    {
      "cell_type": "code",
      "source": [
        "top_features_idx = important_features.argsort()[-10:][::-1]\n",
        "X_train_selected = X_train_new[:, top_features_idx]\n",
        "X_test_selected = X_test_new[:, top_features_idx]"
      ],
      "metadata": {
        "id": "fdGzBb25iueg"
      },
      "execution_count": null,
      "outputs": []
    },
    {
      "cell_type": "code",
      "source": [
        "dl_model = models.Sequential([\n",
        "    layers.Dense(64, activation='relu', input_shape=(X_train_selected.shape[1],)),\n",
        "    layers.Dropout(0.3),\n",
        "    layers.Dense(32, activation='relu'),\n",
        "    layers.Dense(1, activation='sigmoid')  # Output layer for binary classification\n",
        "])"
      ],
      "metadata": {
        "id": "lZMrjH1TiyBN"
      },
      "execution_count": null,
      "outputs": []
    },
    {
      "cell_type": "code",
      "source": [
        "dl_model.compile(optimizer='adam', loss='binary_crossentropy', metrics=['accuracy'])"
      ],
      "metadata": {
        "id": "k0lmRxV6i1K3"
      },
      "execution_count": null,
      "outputs": []
    },
    {
      "cell_type": "code",
      "source": [
        "\n",
        "history = dl_model.fit(X_train_selected, y_train_new, epochs=20, batch_size=32, validation_split=0.2, verbose=1)\n",
        "\n",
        "# Import necessary libraries for plotting\n",
        "import matplotlib.pyplot as plt\n",
        "\n",
        "# Plot the training accuracy and validation accuracy\n",
        "plt.plot(history.history['accuracy'], label='Training Accuracy')\n",
        "plt.plot(history.history['val_accuracy'], label='Validation Accuracy')\n",
        "plt.title('Training and Validation Accuracy')\n",
        "plt.xlabel('Epochs')\n",
        "plt.ylabel('Accuracy')\n",
        "plt.legend()\n",
        "plt.show()\n",
        "\n",
        "# Plot the training loss and validation loss\n",
        "plt.plot(history.history['loss'], label='Training Loss')\n",
        "plt.plot(history.history['val_loss'], label='Validation Loss')\n",
        "plt.title('Training and Validation Loss')\n",
        "plt.xlabel('Epochs')\n",
        "plt.ylabel('Loss')\n",
        "plt.legend()\n",
        "plt.show()"
      ],
      "metadata": {
        "id": "MqscT-ZAi34X"
      },
      "execution_count": null,
      "outputs": []
    },
    {
      "cell_type": "code",
      "source": [
        "dl_loss, dl_accuracy = dl_model.evaluate(X_test_selected, y_test_new)"
      ],
      "metadata": {
        "id": "PirRU8gRjB3v"
      },
      "execution_count": null,
      "outputs": []
    },
    {
      "cell_type": "code",
      "source": [
        "print(f\"Deep Learning Model Accuracy: {dl_accuracy}\")"
      ],
      "metadata": {
        "id": "-4whPaTIjGN6"
      },
      "execution_count": null,
      "outputs": []
    },
    {
      "cell_type": "code",
      "source": [
        "# Save the deep learning model\n",
        "dl_model.save('/content/drive/MyDrive/PREDICTIVE MODULE OF MINERAL EXPLORATION/PMOMEX---PREDICTIVE-MODEL-OF-MINERAL-EXPLORATION/CODE/MODEL/rf_dl_hybrid_mineral_dl_model.h5')"
      ],
      "metadata": {
        "id": "xxAqT14gj0iX"
      },
      "execution_count": null,
      "outputs": []
    },
    {
      "cell_type": "code",
      "source": [
        "from tensorflow.keras.models import load_model\n",
        "\n",
        "# Load the saved model\n",
        "loaded_model = load_model('/content/drive/MyDrive/PREDICTIVE MODULE OF MINERAL EXPLORATION/PMOMEX---PREDICTIVE-MODEL-OF-MINERAL-EXPLORATION/CODE/MODEL/rf_dl_hybrid_mineral_dl_model.h5')"
      ],
      "metadata": {
        "id": "fDd6GLUKooaI"
      },
      "execution_count": null,
      "outputs": []
    },
    {
      "cell_type": "code",
      "source": [
        "# Evaluate the model on the test data\n",
        "test_loss, test_accuracy = dl_model.evaluate(X_test_selected, y_test_new)\n",
        "\n",
        "print(f\"Test Loss: {test_loss}\")\n",
        "print(f\"Test Accuracy: {test_accuracy}\")"
      ],
      "metadata": {
        "id": "uCNXPv_Hqezo"
      },
      "execution_count": null,
      "outputs": []
    },
    {
      "cell_type": "code",
      "source": [
        "# Make predictions on the test data\n",
        "predictions = dl_model.predict(X_test_selected)\n",
        "\n",
        "# Convert probabilities to binary class labels (assuming binary classification)\n",
        "predicted_labels = (predictions > 0.5).astype(\"int32\")\n",
        "\n",
        "# Display some of the predicted labels along with actual labels\n",
        "for i in range(10):  # Display first 10 predictions\n",
        "    print(f\"Predicted: {predicted_labels[i][0]}, Actual: {y_test_new.iloc[i]}\")"
      ],
      "metadata": {
        "id": "Qkg3aGAOqgdA"
      },
      "execution_count": null,
      "outputs": []
    },
    {
      "cell_type": "code",
      "source": [
        "from sklearn.metrics import confusion_matrix\n",
        "import seaborn as sns\n",
        "\n",
        "# Make predictions on the test data\n",
        "predictions = dl_model.predict(X_test_selected)\n",
        "\n",
        "# Convert probabilities to binary class labels\n",
        "predicted_labels = (predictions > 0.5).astype(\"int32\")\n",
        "\n",
        "# Create confusion matrix\n",
        "conf_matrix = confusion_matrix(y_test_new, predicted_labels)\n",
        "\n",
        "# Plot confusion matrix using heatmap\n",
        "plt.figure(figsize=(8, 6))\n",
        "sns.heatmap(conf_matrix, annot=True, fmt='d', cmap='Blues', cbar=False)\n",
        "plt.title('Confusion Matrix')\n",
        "plt.xlabel('Predicted Labels')\n",
        "plt.ylabel('True Labels')\n",
        "plt.show()"
      ],
      "metadata": {
        "id": "AKG-p312qkZG"
      },
      "execution_count": null,
      "outputs": []
    },
    {
      "cell_type": "code",
      "source": [
        "from tensorflow.keras.models import load_model\n",
        "\n",
        "# Load the pretrained model from the file\n",
        "model_path = '/content/drive/MyDrive/PREDICTIVE MODULE OF MINERAL EXPLORATION/PMOMEX---PREDICTIVE-MODEL-OF-MINERAL-EXPLORATION/CODE/MODEL/rf_dl_hybrid_mineral_dl_model.h5'\n",
        "loaded_model = load_model(model_path)\n",
        "\n",
        "# Display the model summary to understand its architecture\n",
        "loaded_model.summary()\n"
      ],
      "metadata": {
        "id": "k3z_vlR7RBNS"
      },
      "execution_count": null,
      "outputs": []
    },
    {
      "cell_type": "code",
      "source": [
        "import numpy as np\n",
        "\n",
        "# Assuming you have your test data: X_test and y_test\n",
        "# Evaluate the model\n",
        "test_loss, test_accuracy = loaded_model.evaluate(X_test, y_test, verbose=2)\n",
        "\n",
        "# Print the accuracy\n",
        "print(f'Test Accuracy: {test_accuracy * 100:.2f}%')\n",
        "\n",
        "# Save the accuracy to a text file\n",
        "with open('model_accuracy.txt', 'w') as f:\n",
        "    f.write(f'Test Accuracy: {test_accuracy * 100:.2f}%\\n')\n"
      ],
      "metadata": {
        "id": "3S6PoU2kSOgr"
      },
      "execution_count": null,
      "outputs": []
    }
  ]
}