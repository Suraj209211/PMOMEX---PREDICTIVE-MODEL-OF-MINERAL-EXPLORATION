{
  "nbformat": 4,
  "nbformat_minor": 0,
  "metadata": {
    "colab": {
      "private_outputs": true,
      "provenance": [],
      "mount_file_id": "1aQneQudrieTEyiEf_Nj2wdPrEy-c0-ND",
      "authorship_tag": "ABX9TyM6kenn2A8EfXQCI9flZRsL",
      "include_colab_link": true
    },
    "kernelspec": {
      "name": "python3",
      "display_name": "Python 3"
    },
    "language_info": {
      "name": "python"
    }
  },
  "cells": [
    {
      "cell_type": "markdown",
      "metadata": {
        "id": "view-in-github",
        "colab_type": "text"
      },
      "source": [
        "<a href=\"https://colab.research.google.com/github/Suraj209211/PMOMEX---PREDICTIVE-MODEL-OF-MINERAL-EXPLORATION/blob/main/DNN.ipynb\" target=\"_parent\"><img src=\"https://colab.research.google.com/assets/colab-badge.svg\" alt=\"Open In Colab\"/></a>"
      ]
    },
    {
      "cell_type": "code",
      "execution_count": null,
      "metadata": {
        "id": "xg2PPex_MUwZ"
      },
      "outputs": [],
      "source": [
        "\n",
        "import pandas as pd\n",
        "from sklearn.model_selection import train_test_split\n",
        "from sklearn.preprocessing import StandardScaler\n",
        "import tensorflow as tf\n",
        "from tensorflow.keras import layers\n",
        "import numpy as np\n",
        "import matplotlib.pyplot as plt\n",
        "import seaborn as sns\n"
      ]
    },
    {
      "cell_type": "code",
      "source": [
        "# Step 1: Load the dataset\n",
        "data_path = '/content/drive/MyDrive/PREDICTIVE MODULE OF MINERAL EXPLORATION/PMOMEX---PREDICTIVE-MODEL-OF-MINERAL-EXPLORATION/NEW_DATA/CSV_OUTPUTS/finaldata_geophysicalchemical.csv'  # Update this path\n",
        "data = pd.read_csv(data_path)"
      ],
      "metadata": {
        "id": "2trJWst8MnJA"
      },
      "execution_count": null,
      "outputs": []
    },
    {
      "cell_type": "code",
      "source": [
        "features = data[['X', 'Y', 'GravValue', 'MagneticValue', 'SiO2', 'Al2O3', 'Fe2O3', 'MnO', 'MgO', 'CaO', 'Na2O', 'K2O', 'TiO2', 'P2O5']]\n",
        "target = data['PROBABILITY']"
      ],
      "metadata": {
        "id": "NaaUKALrNrtf"
      },
      "execution_count": null,
      "outputs": []
    },
    {
      "cell_type": "code",
      "source": [
        "X_train, X_test, y_train, y_test = train_test_split(features, target, test_size=0.2, random_state=42)\n",
        "\n",
        "# Step 4: Normalize the feature data for better model performance\n",
        "scaler = StandardScaler()\n",
        "X_train_scaled = scaler.fit_transform(X_train)\n",
        "X_test_scaled = scaler.transform(X_test)\n"
      ],
      "metadata": {
        "id": "7HMykXmaN4zd"
      },
      "execution_count": null,
      "outputs": []
    },
    {
      "cell_type": "code",
      "source": [
        "# Step 5: Build a deep learning model\n",
        "model = tf.keras.Sequential([\n",
        "    layers.Dense(128, activation='relu', input_shape=(X_train_scaled.shape[1],)),\n",
        "    layers.Dropout(0.3),\n",
        "    layers.Dense(64, activation='relu'),\n",
        "    layers.Dropout(0.3),\n",
        "    layers.Dense(32, activation='relu'),\n",
        "    layers.Dense(1, activation='sigmoid')  # Output layer for binary classification (presence or absence of mineral)\n",
        "])\n",
        "\n",
        "# Step 6: Compile the model\n",
        "model.compile(optimizer='adam', loss='binary_crossentropy', metrics=['accuracy'])"
      ],
      "metadata": {
        "id": "yfG1_OE6N8x2"
      },
      "execution_count": null,
      "outputs": []
    },
    {
      "cell_type": "code",
      "source": [
        "history = model.fit(X_train_scaled, y_train, epochs=20, validation_data=(X_test_scaled, y_test))"
      ],
      "metadata": {
        "id": "OUUHkc0ZN_vU"
      },
      "execution_count": null,
      "outputs": []
    },
    {
      "cell_type": "code",
      "source": [
        "test_loss, test_accuracy = model.evaluate(X_test_scaled, y_test)\n",
        "print(f\"Test Accuracy: {test_accuracy * 100:.2f}%\")\n"
      ],
      "metadata": {
        "id": "iJEDDMb4OKkr"
      },
      "execution_count": null,
      "outputs": []
    },
    {
      "cell_type": "code",
      "source": [
        "# Step 9: Visualize training and validation accuracy\n",
        "plt.plot(history.history['accuracy'], label='Training Accuracy')\n",
        "plt.plot(history.history['val_accuracy'], label='Validation Accuracy')\n",
        "plt.xlabel('Epochs')\n",
        "plt.ylabel('Accuracy')\n",
        "plt.legend()\n",
        "plt.title('Training and Validation Accuracy')\n",
        "plt.show()\n",
        "\n",
        "# Step 10: Generate predictions and visualize them based on lat-long values\n",
        "# Make predictions on the test data\n",
        "y_pred = model.predict(X_test_scaled)\n",
        "y_pred_binary = (y_pred > 0.5).astype(int)  # Convert probabilities to binary (0 or 1)\n",
        "\n",
        "# Visualize predictions\n",
        "plt.figure(figsize=(10, 6))\n",
        "sns.scatterplot(x=X_test['X'], y=X_test['Y'], hue=y_pred_binary[:,0], palette='coolwarm', legend='full')\n",
        "plt.title('Predicted Mineral Presence Based on Latitude and Longitude')\n",
        "plt.xlabel('Longitude')\n",
        "plt.ylabel('Latitude')\n",
        "plt.show()\n",
        "\n",
        "# Step 11: Visualize specific minerals from the dataset\n",
        "# Visualizing distribution of a specific mineral like Fe2O3 (Iron oxide)\n",
        "plt.figure(figsize=(10, 6))\n",
        "sns.scatterplot(x=data['X'], y=data['Y'], hue=data['Fe2O3'], palette='viridis')\n",
        "plt.title('Geographical Distribution of Fe2O3 (Iron Oxide)')\n",
        "plt.xlabel('Longitude')\n",
        "plt.ylabel('Latitude')\n",
        "plt.colorbar()\n",
        "plt.show()"
      ],
      "metadata": {
        "id": "1m5WwPSnOQl1"
      },
      "execution_count": null,
      "outputs": []
    },
    {
      "cell_type": "code",
      "source": [
        "import seaborn as sns\n",
        "import matplotlib.pyplot as plt\n",
        "import numpy as np\n",
        "\n",
        "# Step 10: Generate predictions\n",
        "y_pred_prob = model.predict(X_test_scaled)  # Get prediction probabilities\n",
        "y_pred_binary = (y_pred_prob > 0.5).astype(int)  # Convert probabilities to binary (0 or 1)\n",
        "\n",
        "# Combine the predictions with the test data's latitude and longitude for heatmap plotting\n",
        "heatmap_data = pd.DataFrame({\n",
        "    'Longitude': X_test['X'],\n",
        "    'Latitude': X_test['Y'],\n",
        "    'Prediction_Probability': y_pred_prob.flatten(),  # Use probabilities for heatmap\n",
        "    'Prediction_Binary': y_pred_binary.flatten()      # Or use binary predictions (0/1)\n",
        "})\n",
        "\n",
        "# Step 11: Generate a heatmap\n",
        "# We will bin the Latitude and Longitude into grids for the heatmap\n",
        "heatmap_data_binned = heatmap_data.pivot_table(index='Latitude', columns='Longitude', values='Prediction_Probability')\n",
        "\n",
        "# Generate the heatmap\n",
        "plt.figure(figsize=(30, 20))\n",
        "sns.heatmap(heatmap_data_binned, cmap='coolwarm', annot=False, cbar=True)\n",
        "plt.title('Heatmap of Mineral Prediction Probabilities')\n",
        "plt.xlabel('Longitude')\n",
        "plt.ylabel('Latitude')\n",
        "plt.show()"
      ],
      "metadata": {
        "id": "SO7PVVufOiU-"
      },
      "execution_count": null,
      "outputs": []
    },
    {
      "cell_type": "code",
      "source": [
        "import seaborn as sns\n",
        "import matplotlib.pyplot as plt\n",
        "import numpy as np\n",
        "import pandas as pd\n",
        "\n",
        "# Assuming the model has been trained as per the earlier steps\n",
        "# and the dataset is loaded into 'data'\n",
        "\n",
        "# Step 1: Prepare the features for the model (using the same features from before)\n",
        "features = data[['X', 'Y', 'GravValue', 'MagneticValue', 'SiO2', 'Al2O3', 'Fe2O3', 'MnO', 'MgO', 'CaO', 'Na2O', 'K2O', 'TiO2', 'P2O5']]\n",
        "target = data['PROBABILITY']  # Assuming this is the target variable indicating mineral presence\n",
        "\n",
        "# Step 2: Split the data into training and testing sets\n",
        "X_train, X_test, y_train, y_test = train_test_split(features, target, test_size=0.2, random_state=42)\n",
        "\n",
        "# Step 3: Normalize the feature data for better model performance\n",
        "scaler = StandardScaler()\n",
        "X_train_scaled = scaler.fit_transform(X_train)\n",
        "X_test_scaled = scaler.transform(X_test)\n",
        "\n",
        "# Step 4: Generate predictions\n",
        "y_pred_prob = model.predict(X_test_scaled)  # Get prediction probabilities\n",
        "\n",
        "# Step 5: Prepare the data for the heatmap\n",
        "heatmap_data = pd.DataFrame({\n",
        "    'Longitude': X_test['X'],\n",
        "    'Latitude': X_test['Y'],\n",
        "    'Prediction_Probability': y_pred_prob.flatten()  # Use prediction probabilities\n",
        "})\n",
        "\n",
        "# Step 6: Create a pivot table to arrange the data by Latitude and Longitude\n",
        "heatmap_data_binned = heatmap_data.pivot_table(index='Latitude', columns='Longitude', values='Prediction_Probability')\n",
        "\n",
        "# Step 7: Plot the heatmap\n",
        "plt.figure(figsize=(12, 10))\n",
        "sns.heatmap(heatmap_data_binned, cmap='coolwarm', annot=False, cbar=True)\n",
        "plt.title('Mineral Prediction Heatmap Based on Model')\n",
        "plt.xlabel('Longitude')\n",
        "plt.ylabel('Latitude')\n",
        "plt.show()"
      ],
      "metadata": {
        "id": "YmXRjHUUr5JK"
      },
      "execution_count": null,
      "outputs": []
    },
    {
      "cell_type": "code",
      "source": [
        "# After training the model, save it to a file\n",
        "model_save_path = '/content/drive/MyDrive/PREDICTIVE MODULE OF MINERAL EXPLORATION/PMOMEX---PREDICTIVE-MODEL-OF-MINERAL-EXPLORATION/CODE/MODEL/DNN.h5'  # Update this path to where you'd like to save the model\n",
        "model.save(model_save_path)\n",
        "\n",
        "print(f\"Model saved to {model_save_path}\")"
      ],
      "metadata": {
        "id": "5QlGhhhrr7sC"
      },
      "execution_count": null,
      "outputs": []
    }
  ]
}