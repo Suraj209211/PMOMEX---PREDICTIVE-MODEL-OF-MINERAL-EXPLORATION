{
  "nbformat": 4,
  "nbformat_minor": 0,
  "metadata": {
    "colab": {
      "private_outputs": true,
      "provenance": [],
      "gpuType": "T4",
      "mount_file_id": "1CoDlVexp5QsC02vTBx5Gy4mEXlITW0T9",
      "authorship_tag": "ABX9TyMO07CSxCVE6eSJgPrTdYzW",
      "include_colab_link": true
    },
    "kernelspec": {
      "name": "python3",
      "display_name": "Python 3"
    },
    "language_info": {
      "name": "python"
    },
    "accelerator": "GPU"
  },
  "cells": [
    {
      "cell_type": "markdown",
      "metadata": {
        "id": "view-in-github",
        "colab_type": "text"
      },
      "source": [
        "<a href=\"https://colab.research.google.com/github/Suraj209211/PMOMEX---PREDICTIVE-MODEL-OF-MINERAL-EXPLORATION/blob/main/combinedcsv.ipynb\" target=\"_parent\"><img src=\"https://colab.research.google.com/assets/colab-badge.svg\" alt=\"Open In Colab\"/></a>"
      ]
    },
    {
      "cell_type": "code",
      "execution_count": null,
      "metadata": {
        "id": "SkMiKvr_p58Q"
      },
      "outputs": [],
      "source": [
        "import pandas as pd\n",
        "\n",
        "# List of file paths\n",
        "file_paths = [\n",
        "    '/content/drive/MyDrive/PREDICTIVE MODULE OF MINERAL EXPLORATION/PMOMEX---PREDICTIVE-MODEL-OF-MINERAL-EXPLORATION/CODE/DATA-PREPROCESSING/csv/summary_statistics_0.csv',\n",
        "    '/content/drive/MyDrive/PREDICTIVE MODULE OF MINERAL EXPLORATION/PMOMEX---PREDICTIVE-MODEL-OF-MINERAL-EXPLORATION/CODE/DATA-PREPROCESSING/csv/summary_statistics_1.csv',\n",
        "    '/content/drive/MyDrive/PREDICTIVE MODULE OF MINERAL EXPLORATION/PMOMEX---PREDICTIVE-MODEL-OF-MINERAL-EXPLORATION/CODE/DATA-PREPROCESSING/csv/summary_statistics_2.csv',\n",
        "    '/content/drive/MyDrive/PREDICTIVE MODULE OF MINERAL EXPLORATION/PMOMEX---PREDICTIVE-MODEL-OF-MINERAL-EXPLORATION/CODE/DATA-PREPROCESSING/csv/summary_statistics_3.csv',\n",
        "    '/content/drive/MyDrive/PREDICTIVE MODULE OF MINERAL EXPLORATION/PMOMEX---PREDICTIVE-MODEL-OF-MINERAL-EXPLORATION/CODE/DATA-PREPROCESSING/csv/summary_statistics_4.csv',\n",
        "    '/content/drive/MyDrive/PREDICTIVE MODULE OF MINERAL EXPLORATION/PMOMEX---PREDICTIVE-MODEL-OF-MINERAL-EXPLORATION/CODE/DATA-PREPROCESSING/csv/summary_statistics_5.csv',\n",
        "    '/content/drive/MyDrive/PREDICTIVE MODULE OF MINERAL EXPLORATION/PMOMEX---PREDICTIVE-MODEL-OF-MINERAL-EXPLORATION/CODE/DATA-PREPROCESSING/csv/summary_statistics_6.csv',\n",
        "    '/content/drive/MyDrive/PREDICTIVE MODULE OF MINERAL EXPLORATION/PMOMEX---PREDICTIVE-MODEL-OF-MINERAL-EXPLORATION/CODE/DATA-PREPROCESSING/csv/summary_statistics_7.csv',\n",
        "    '/content/drive/MyDrive/PREDICTIVE MODULE OF MINERAL EXPLORATION/PMOMEX---PREDICTIVE-MODEL-OF-MINERAL-EXPLORATION/CODE/DATA-PREPROCESSING/csv/summary_statistics_8.csv',\n",
        "    '/content/drive/MyDrive/PREDICTIVE MODULE OF MINERAL EXPLORATION/PMOMEX---PREDICTIVE-MODEL-OF-MINERAL-EXPLORATION/CODE/DATA-PREPROCESSING/csv/summary_statistics_9.csv',\n",
        "    '/content/drive/MyDrive/PREDICTIVE MODULE OF MINERAL EXPLORATION/PMOMEX---PREDICTIVE-MODEL-OF-MINERAL-EXPLORATION/CODE/DATA-PREPROCESSING/csv/summary_statistics_10.csv',\n",
        "    '/content/drive/MyDrive/PREDICTIVE MODULE OF MINERAL EXPLORATION/PMOMEX---PREDICTIVE-MODEL-OF-MINERAL-EXPLORATION/CODE/DATA-PREPROCESSING/csv/summary_statistics_11.csv',\n",
        "    '/content/drive/MyDrive/PREDICTIVE MODULE OF MINERAL EXPLORATION/PMOMEX---PREDICTIVE-MODEL-OF-MINERAL-EXPLORATION/CODE/DATA-PREPROCESSING/csv/summary_statistics_12.csv',\n",
        "]\n",
        "\n",
        "# Load and concatenate all dataframes\n",
        "dfs = [pd.read_csv(file_path) for file_path in file_paths]\n",
        "combined_df = pd.concat(dfs, ignore_index=True)\n",
        "\n",
        "# Calculate aggregate statistics for the combined data\n",
        "aggregate_stats = combined_df.describe()\n",
        "\n",
        "# Save the combined data to a new CSV file\n",
        "combined_file_path = '/content/drive/MyDrive/PREDICTIVE MODULE OF MINERAL EXPLORATION/PMOMEX---PREDICTIVE-MODEL-OF-MINERAL-EXPLORATION/CODE/DATA-PREPROCESSING/csv/combined_summary_statistics.csv'\n",
        "combined_df.to_csv(combined_file_path, index=False)\n",
        "\n",
        "# Save the aggregate statistics to a new CSV file\n",
        "aggregate_stats_file_path = '/content/drive/MyDrive/PREDICTIVE MODULE OF MINERAL EXPLORATION/PMOMEX---PREDICTIVE-MODEL-OF-MINERAL-EXPLORATION/CODE/DATA-PREPROCESSING/csv/aggregate_summary_statistics.csv'\n",
        "aggregate_stats.to_csv(aggregate_stats_file_path)\n",
        "\n",
        "# Print the file paths\n",
        "print(\"File Paths:\")\n",
        "for file_path in file_paths:\n",
        "    print(file_path)\n"
      ]
    },
    {
      "cell_type": "code",
      "source": [
        "print(\"Aggregate Statistics:\\n\", aggregate_stats)\n",
        "\n",
        "# Output the file paths for verification\n",
        "print(\"Combined file saved at:\", combined_file_path)\n",
        "print(\"Aggregate statistics file saved at:\", aggregate_stats_file_path)"
      ],
      "metadata": {
        "id": "Zp7Ia8gBDN1F"
      },
      "execution_count": null,
      "outputs": []
    },
    {
      "cell_type": "code",
      "source": [],
      "metadata": {
        "id": "oJNAEMjyDVXI"
      },
      "execution_count": null,
      "outputs": []
    }
  ]
}